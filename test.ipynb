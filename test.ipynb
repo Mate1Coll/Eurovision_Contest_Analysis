{
 "cells": [
  {
   "cell_type": "markdown",
   "metadata": {},
   "source": [
    "# Familiarizing with data"
   ]
  },
  {
   "cell_type": "code",
   "execution_count": 2,
   "metadata": {},
   "outputs": [],
   "source": [
    "import pandas as pd\n",
    "import numpy as np\n",
    "import os\n",
    "import matplotlib.pyplot as plt\n",
    "import networkx as nx"
   ]
  },
  {
   "cell_type": "code",
   "execution_count": null,
   "metadata": {},
   "outputs": [
    {
     "name": "stdout",
     "output_type": "stream",
     "text": [
      "c:\\Users\\mate1\\OneDrive\\Escritorio\\Repository\\Eurovision_Contest_Analysis\n"
     ]
    }
   ],
   "source": [
    "# Get directory\n",
    "print(os.getcwd())"
   ]
  },
  {
   "cell_type": "code",
   "execution_count": null,
   "metadata": {},
   "outputs": [
    {
     "data": {
      "text/html": [
       "<div>\n",
       "<style scoped>\n",
       "    .dataframe tbody tr th:only-of-type {\n",
       "        vertical-align: middle;\n",
       "    }\n",
       "\n",
       "    .dataframe tbody tr th {\n",
       "        vertical-align: top;\n",
       "    }\n",
       "\n",
       "    .dataframe thead th {\n",
       "        text-align: right;\n",
       "    }\n",
       "</style>\n",
       "<table border=\"1\" class=\"dataframe\">\n",
       "  <thead>\n",
       "    <tr style=\"text-align: right;\">\n",
       "      <th></th>\n",
       "      <th>year</th>\n",
       "      <th>round</th>\n",
       "      <th>from_country_id</th>\n",
       "      <th>to_country_id</th>\n",
       "      <th>from_country</th>\n",
       "      <th>to_country</th>\n",
       "      <th>total_points</th>\n",
       "      <th>tele_points</th>\n",
       "      <th>jury_points</th>\n",
       "    </tr>\n",
       "  </thead>\n",
       "  <tbody>\n",
       "    <tr>\n",
       "      <th>0</th>\n",
       "      <td>1957</td>\n",
       "      <td>final</td>\n",
       "      <td>at</td>\n",
       "      <td>nl</td>\n",
       "      <td>at</td>\n",
       "      <td>nl</td>\n",
       "      <td>6</td>\n",
       "      <td>NaN</td>\n",
       "      <td>NaN</td>\n",
       "    </tr>\n",
       "    <tr>\n",
       "      <th>1</th>\n",
       "      <td>1957</td>\n",
       "      <td>final</td>\n",
       "      <td>at</td>\n",
       "      <td>fr</td>\n",
       "      <td>at</td>\n",
       "      <td>fr</td>\n",
       "      <td>0</td>\n",
       "      <td>NaN</td>\n",
       "      <td>NaN</td>\n",
       "    </tr>\n",
       "    <tr>\n",
       "      <th>2</th>\n",
       "      <td>1957</td>\n",
       "      <td>final</td>\n",
       "      <td>at</td>\n",
       "      <td>dk</td>\n",
       "      <td>at</td>\n",
       "      <td>dk</td>\n",
       "      <td>0</td>\n",
       "      <td>NaN</td>\n",
       "      <td>NaN</td>\n",
       "    </tr>\n",
       "    <tr>\n",
       "      <th>3</th>\n",
       "      <td>1957</td>\n",
       "      <td>final</td>\n",
       "      <td>at</td>\n",
       "      <td>lu</td>\n",
       "      <td>at</td>\n",
       "      <td>lu</td>\n",
       "      <td>3</td>\n",
       "      <td>NaN</td>\n",
       "      <td>NaN</td>\n",
       "    </tr>\n",
       "    <tr>\n",
       "      <th>4</th>\n",
       "      <td>1957</td>\n",
       "      <td>final</td>\n",
       "      <td>at</td>\n",
       "      <td>de</td>\n",
       "      <td>at</td>\n",
       "      <td>de</td>\n",
       "      <td>0</td>\n",
       "      <td>NaN</td>\n",
       "      <td>NaN</td>\n",
       "    </tr>\n",
       "    <tr>\n",
       "      <th>...</th>\n",
       "      <td>...</td>\n",
       "      <td>...</td>\n",
       "      <td>...</td>\n",
       "      <td>...</td>\n",
       "      <td>...</td>\n",
       "      <td>...</td>\n",
       "      <td>...</td>\n",
       "      <td>...</td>\n",
       "      <td>...</td>\n",
       "    </tr>\n",
       "    <tr>\n",
       "      <th>51349</th>\n",
       "      <td>2023</td>\n",
       "      <td>final</td>\n",
       "      <td>wld</td>\n",
       "      <td>al</td>\n",
       "      <td>wld</td>\n",
       "      <td>al</td>\n",
       "      <td>6</td>\n",
       "      <td>6.0</td>\n",
       "      <td>NaN</td>\n",
       "    </tr>\n",
       "    <tr>\n",
       "      <th>51350</th>\n",
       "      <td>2023</td>\n",
       "      <td>final</td>\n",
       "      <td>wld</td>\n",
       "      <td>pt</td>\n",
       "      <td>wld</td>\n",
       "      <td>pt</td>\n",
       "      <td>0</td>\n",
       "      <td>0.0</td>\n",
       "      <td>NaN</td>\n",
       "    </tr>\n",
       "    <tr>\n",
       "      <th>51351</th>\n",
       "      <td>2023</td>\n",
       "      <td>final</td>\n",
       "      <td>wld</td>\n",
       "      <td>rs</td>\n",
       "      <td>wld</td>\n",
       "      <td>rs</td>\n",
       "      <td>0</td>\n",
       "      <td>0.0</td>\n",
       "      <td>NaN</td>\n",
       "    </tr>\n",
       "    <tr>\n",
       "      <th>51352</th>\n",
       "      <td>2023</td>\n",
       "      <td>final</td>\n",
       "      <td>wld</td>\n",
       "      <td>gb</td>\n",
       "      <td>wld</td>\n",
       "      <td>gb</td>\n",
       "      <td>0</td>\n",
       "      <td>0.0</td>\n",
       "      <td>NaN</td>\n",
       "    </tr>\n",
       "    <tr>\n",
       "      <th>51353</th>\n",
       "      <td>2023</td>\n",
       "      <td>final</td>\n",
       "      <td>wld</td>\n",
       "      <td>de</td>\n",
       "      <td>wld</td>\n",
       "      <td>de</td>\n",
       "      <td>0</td>\n",
       "      <td>0.0</td>\n",
       "      <td>NaN</td>\n",
       "    </tr>\n",
       "  </tbody>\n",
       "</table>\n",
       "<p>51354 rows × 9 columns</p>\n",
       "</div>"
      ],
      "text/plain": [
       "       year  round from_country_id to_country_id from_country to_country  \\\n",
       "0      1957  final              at            nl           at         nl   \n",
       "1      1957  final              at            fr           at         fr   \n",
       "2      1957  final              at            dk           at         dk   \n",
       "3      1957  final              at            lu           at         lu   \n",
       "4      1957  final              at            de           at         de   \n",
       "...     ...    ...             ...           ...          ...        ...   \n",
       "51349  2023  final             wld            al          wld         al   \n",
       "51350  2023  final             wld            pt          wld         pt   \n",
       "51351  2023  final             wld            rs          wld         rs   \n",
       "51352  2023  final             wld            gb          wld         gb   \n",
       "51353  2023  final             wld            de          wld         de   \n",
       "\n",
       "       total_points  tele_points  jury_points  \n",
       "0                 6          NaN          NaN  \n",
       "1                 0          NaN          NaN  \n",
       "2                 0          NaN          NaN  \n",
       "3                 3          NaN          NaN  \n",
       "4                 0          NaN          NaN  \n",
       "...             ...          ...          ...  \n",
       "51349             6          6.0          NaN  \n",
       "51350             0          0.0          NaN  \n",
       "51351             0          0.0          NaN  \n",
       "51352             0          0.0          NaN  \n",
       "51353             0          0.0          NaN  \n",
       "\n",
       "[51354 rows x 9 columns]"
      ]
     },
     "execution_count": 18,
     "metadata": {},
     "output_type": "execute_result"
    }
   ],
   "source": [
    "initial_year = 1957\n",
    "final_year = 2023\n",
    "\n",
    "df_votes = pd.read_csv('data/votes.csv')\n",
    "df_votes"
   ]
  },
  {
   "cell_type": "code",
   "execution_count": null,
   "metadata": {},
   "outputs": [
    {
     "name": "stdout",
     "output_type": "stream",
     "text": [
      "[1957 1958 1959 1960 1961 1962 1963 1964 1965 1966 1967 1968 1969 1970\n",
      " 1971 1972 1973 1974 1975 1976 1977 1978 1979 1980 1981 1982 1983 1984\n",
      " 1985 1986 1987 1988 1989 1990 1991 1992 1993 1994 1995 1996 1997 1998\n",
      " 1999 2000 2001 2002 2003 2004 2005 2006 2007 2008 2009 2010 2011 2012\n",
      " 2013 2014 2015 2016 2017 2018 2019 2021 2022 2023]\n",
      "['ad' 'al' 'am' 'at' 'au' 'az' 'ba' 'be' 'bg' 'by' 'ch' 'cs' 'cy' 'cz'\n",
      " 'de' 'dk' 'ee' 'es' 'fi' 'fr' 'gb' 'ge' 'gr' 'hr' 'hu' 'ie' 'il' 'is'\n",
      " 'it' 'lt' 'lu' 'lv' 'ma' 'mc' 'md' 'me' 'mk' 'mt' 'nl' 'no' 'pl' 'pt'\n",
      " 'ro' 'rs' 'ru' 'se' 'si' 'sk' 'sm' 'tr' 'ua' 'wld' 'yu']\n",
      "Number of years: 66\n",
      "Number of countries: 53\n"
     ]
    }
   ],
   "source": [
    "years = df_votes['year']\n",
    "years = np.array(years).flatten() # Convert to 1D array\n",
    "years = np.unique(years) # Get unique years\n",
    "\n",
    "countries = df_votes['from_country_id']\n",
    "countries = np.array(countries).flatten() # Convert to 1D array\n",
    "countries = np.unique(countries) # Get unique countries\n",
    "\n",
    "print(years)\n",
    "print(countries)\n",
    "print('Number of years:', len(years))\n",
    "print('Number of countries:', len(countries))\n"
   ]
  },
  {
   "cell_type": "code",
   "execution_count": null,
   "metadata": {},
   "outputs": [
    {
     "name": "stdout",
     "output_type": "stream",
     "text": [
      "['al' 'am' 'at' 'au' 'az' 'ba' 'be' 'bg' 'by' 'ch' 'cs' 'cy' 'cz' 'de'\n",
      " 'dk' 'ee' 'es' 'fi' 'fr' 'gb' 'ge' 'gr' 'hr' 'hu' 'ie' 'il' 'is' 'it'\n",
      " 'lt' 'lu' 'lv' 'mc' 'md' 'me' 'mk' 'mt' 'nl' 'no' 'pl' 'pt' 'ro' 'rs'\n",
      " 'ru' 'se' 'si' 'sm' 'tr' 'ua' 'yu']\n"
     ]
    }
   ],
   "source": [
    "# Get the average number of points per country and remove countries with less than 1 average point in the final\n",
    "country_points = np.zeros((len(countries)))\n",
    "deleted_indexes = []\n",
    "for i,country in enumerate(countries):\n",
    "    number_of_points = 0\n",
    "    for year in years:\n",
    "        votes = df_votes[(df_votes['year'] == year) & (df_votes['to_country_id'] == country) & (df_votes['round'] == 'final')]\n",
    "        number_of_points += votes['total_points'].sum()\n",
    "    country_points[i] = number_of_points/len(years)\n",
    "    if country_points[i] < 1:\n",
    "        deleted_indexes.append(i)\n",
    "\n",
    "countries = np.delete(countries, deleted_indexes)\n",
    "country_points = np.delete(country_points, deleted_indexes)\n",
    "        \n",
    "print(countries)\n"
   ]
  },
  {
   "cell_type": "code",
   "execution_count": null,
   "metadata": {},
   "outputs": [
    {
     "name": "stdout",
     "output_type": "stream",
     "text": [
      "The country with the most points is: se with an average of: 98.04545454545455\n",
      "The country with the least points is: me with an average of: 1.2272727272727273\n"
     ]
    }
   ],
   "source": [
    "print('The country with the most points is:', countries[np.argmax(country_points)], 'with an average of:', np.max(country_points))\n",
    "print('The country with the least points is:', countries[np.argmin(country_points)], 'with an average of:', np.min(country_points))"
   ]
  },
  {
   "cell_type": "code",
   "execution_count": null,
   "metadata": {},
   "outputs": [
    {
     "data": {
      "image/png": "[encoded data removed]",
      "text/plain": [
       "<Figure size 1600x500 with 1 Axes>"
      ]
     },
     "metadata": {},
     "output_type": "display_data"
    }
   ],
   "source": [
    "fig, ax = plt.subplots(1, 1, figsize=(16, 5))\n",
    "\n",
    "ax.set_title('Average number of points per country')\n",
    "ax.bar(countries, country_points)\n",
    "# rotate x labels, smaller font\n",
    "plt.show()"
   ]
  },
  {
   "cell_type": "code",
   "execution_count": null,
   "metadata": {},
   "outputs": [
    {
     "name": "stdout",
     "output_type": "stream",
     "text": [
      "The country with the most participations is: de with a total of: 65.0\n",
      "The country with the least participations is: cs with a total of: 3.0\n"
     ]
    }
   ],
   "source": [
    "# Get the total number of participations of each country\n",
    "country_participations = np.zeros((len(countries)))\n",
    "for i,country in enumerate(countries):\n",
    "    number_of_participations = 0\n",
    "    for year in years:\n",
    "        if len(df_votes[(df_votes['year'] == year) & (df_votes['from_country_id'] == country) & (df_votes['round'] == 'final')]) > 0:\n",
    "            number_of_participations += 1\n",
    "    country_participations[i] = number_of_participations\n",
    "\n",
    "print('The country with the most participations is:', countries[np.argmax(country_participations)], 'with a total of:', np.max(country_participations))\n",
    "print('The country with the least participations is:', countries[np.argmin(country_participations)], 'with a total of:', np.min(country_participations))"
   ]
  },
  {
   "cell_type": "code",
   "execution_count": null,
   "metadata": {},
   "outputs": [
    {
     "name": "stderr",
     "output_type": "stream",
     "text": [
      "C:\\Users\\mate1\\AppData\\Local\\Temp\\ipykernel_14304\\1489737606.py:5: UserWarning: FigureCanvasAgg is non-interactive, and thus cannot be shown\n",
      "  plt.show()\n"
     ]
    },
    {
     "data": {
      "image/png": "[encoded data removed]",
      "text/plain": [
       "<Figure size 1600x500 with 1 Axes>"
      ]
     },
     "metadata": {},
     "output_type": "display_data"
    }
   ],
   "source": [
    "plt, ax = plt.subplots(1, 1, figsize=(16, 5))\n",
    "\n",
    "ax.set_title('Total number of participations per country')\n",
    "ax.bar(countries, country_participations)\n",
    "plt.show()"
   ]
  },
  {
   "cell_type": "code",
   "execution_count": null,
   "metadata": {},
   "outputs": [
    {
     "name": "stdout",
     "output_type": "stream",
     "text": [
      "The country with the most wins is: ie with a total of: 7.0\n",
      "The country with the least wins is: al with a total of: 0.0\n"
     ]
    }
   ],
   "source": [
    "# Get the total of wins of each country\n",
    "country_wins = np.zeros((len(countries)))\n",
    "for year in years:\n",
    "    country_winner = 0\n",
    "    for i,country in enumerate(countries):\n",
    "        votes = df_votes[(df_votes['year'] == year) & (df_votes['to_country_id'] == country) & (df_votes['round'] == 'final')]\n",
    "        country_votes = votes['total_points'].sum()\n",
    "        if country_votes > country_winner:\n",
    "            country_winner = country_votes\n",
    "            winner = i\n",
    "    country_wins[winner] += 1\n",
    "\n",
    "print('The country with the most wins is:', countries[np.argmax(country_wins)], 'with a total of:', np.max(country_wins))\n",
    "print('The country with the least wins is:', countries[np.argmin(country_wins)], 'with a total of:', np.min(country_wins))\n",
    "        \n",
    "    "
   ]
  },
  {
   "cell_type": "code",
   "execution_count": null,
   "metadata": {},
   "outputs": [
    {
     "data": {
      "image/png": "[encoded data removed]",
      "text/plain": [
       "<Figure size 1600x500 with 1 Axes>"
      ]
     },
     "metadata": {},
     "output_type": "display_data"
    }
   ],
   "source": [
    "fig, ax = plt.subplots(1, 1, figsize=(16, 5))\n",
    "\n",
    "ax.set_title('Total number of wins per country')\n",
    "ax.bar(countries, country_wins)\n",
    "plt.show()"
   ]
  },
  {
   "cell_type": "markdown",
   "metadata": {},
   "source": [
    "## Network analysis"
   ]
  },
  {
   "cell_type": "code",
   "execution_count": null,
   "metadata": {},
   "outputs": [],
   "source": [
    "def eurovision_network(year, round):\n",
    "    votes = df_votes[(df_votes['year'] == year) & (df_votes['round'] == round)]\n",
    "    votes = votes[['from_country_id', 'to_country_id', 'total_points']]\n",
    "    \n",
    "    return votes"
   ]
  },
  {
   "cell_type": "code",
   "execution_count": null,
   "metadata": {},
   "outputs": [],
   "source": [
    "year = 2021"
   ]
  },
  {
   "cell_type": "markdown",
   "metadata": {},
   "source": [
    "## Spain Analysis"
   ]
  }
 ],
 "metadata": {
  "kernelspec": {
   "display_name": "Python 3",
   "language": "python",
   "name": "python3"
  },
  "language_info": {
   "codemirror_mode": {
    "name": "ipython",
    "version": 3
   },
   "file_extension": ".py",
   "mimetype": "text/x-python",
   "name": "python",
   "nbconvert_exporter": "python",
   "pygments_lexer": "ipython3",
   "version": "3.12.0"
  }
 },
 "nbformat": 4,
 "nbformat_minor": 2
}
